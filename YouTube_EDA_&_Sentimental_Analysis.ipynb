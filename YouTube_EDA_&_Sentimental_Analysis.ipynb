{
  "nbformat": 4,
  "nbformat_minor": 0,
  "metadata": {
    "colab": {
      "provenance": [],
      "authorship_tag": "ABX9TyNzcS4vPmPjCblXOU+zpcPT",
      "include_colab_link": true
    },
    "kernelspec": {
      "name": "python3",
      "display_name": "Python 3"
    },
    "language_info": {
      "name": "python"
    }
  },
  "cells": [
    {
      "cell_type": "markdown",
      "metadata": {
        "id": "view-in-github",
        "colab_type": "text"
      },
      "source": [
        "<a href=\"https://colab.research.google.com/github/Thomas-George-T/Streamlit-YouTube-Dashboard/blob/main/YouTube_EDA_%26_Sentimental_Analysis.ipynb\" target=\"_parent\"><img src=\"https://colab.research.google.com/assets/colab-badge.svg\" alt=\"Open In Colab\"/></a>"
      ]
    },
    {
      "cell_type": "markdown",
      "source": [
        "# YouTube NLP"
      ],
      "metadata": {
        "id": "oyWNPLCREeBm"
      }
    },
    {
      "cell_type": "markdown",
      "source": [
        "## Ingesting Comments from the YouTube Video"
      ],
      "metadata": {
        "id": "wyBnA3NgEi0W"
      }
    },
    {
      "cell_type": "code",
      "source": [
        "api_key = ''"
      ],
      "metadata": {
        "id": "ub2kJ5eEF0xF"
      },
      "execution_count": null,
      "outputs": []
    },
    {
      "cell_type": "code",
      "execution_count": null,
      "metadata": {
        "id": "bcsli4zgbOaK"
      },
      "outputs": [],
      "source": [
        "from googleapiclient.discovery import build\n",
        "\n",
        "# The string after v=? in the url\n",
        "video_id = \"Il0S8BoucSA\"\n",
        "\n",
        "# creating youtube resource object\n",
        "youtube = build('youtube', 'v3',\n",
        "developerKey=api_key)\n",
        "\n",
        "# retrieve youtube video results\n",
        "video_response=youtube.commentThreads().list(\n",
        "  part='snippet',\n",
        "  maxResults=200,\n",
        "  order='relevance',\n",
        "  videoId=video_id\n",
        ").execute()"
      ]
    },
    {
      "cell_type": "markdown",
      "source": [
        "## Data Preprocessing"
      ],
      "metadata": {
        "id": "yq7-bNkVEu8f"
      }
    },
    {
      "cell_type": "markdown",
      "source": [
        "### Data Wrangling"
      ],
      "metadata": {
        "id": "9d3Gu80DEzxz"
      }
    },
    {
      "cell_type": "markdown",
      "source": [
        "#### Assumptions\n",
        "\n",
        "\n",
        "*   Picking only the comment made by the original author\n",
        "  *   Comment Threads on the Original Authors comment could be diverging from the video\n",
        "  *   Limiting Response to about 10 for testing\n",
        "\n",
        "*   Using the 'textOriginal' instead of 'textDisplay' for easier cleanup of the comment\n",
        "\n",
        "\n",
        "*   Analyzing only English Comments \n",
        "  *   Storing the number of non English comments for metrics\n",
        "\n",
        "\n",
        "\n",
        "\n",
        "\n",
        "\n"
      ],
      "metadata": {
        "id": "y5znsobSE77W"
      }
    },
    {
      "cell_type": "code",
      "source": [
        "# empty list for storing reply\n",
        "comments = []\n",
        "\n",
        "# extracting required info from each result object\n",
        "for item in video_response['items']:\n",
        "\n",
        "  # Extracting comments\n",
        "  comment = item['snippet']['topLevelComment']['snippet']['textOriginal']\n",
        "  # Extracting author\n",
        "  author = item['snippet']['topLevelComment']['snippet']['authorDisplayName']\n",
        "  # Extracting published time\n",
        "  published_at = item['snippet']['topLevelComment']['snippet']['publishedAt']\n",
        "  # Extracting likes\n",
        "  like_count = item['snippet']['topLevelComment']['snippet']['likeCount']\n",
        "  # Extracting total replies to the comment\n",
        "  reply_count = item['snippet']['totalReplyCount']\n",
        "\n",
        "  comments.append([author, comment, published_at, like_count, reply_count])"
      ],
      "metadata": {
        "id": "B3ZHIuZD-60O"
      },
      "execution_count": null,
      "outputs": []
    },
    {
      "cell_type": "code",
      "source": [
        "len(comments)"
      ],
      "metadata": {
        "colab": {
          "base_uri": "https://localhost:8080/"
        },
        "id": "kLpwGkbKnxLK",
        "outputId": "83c44908-3b6f-4267-c6f6-1f10c020b186"
      },
      "execution_count": null,
      "outputs": [
        {
          "output_type": "execute_result",
          "data": {
            "text/plain": [
              "100"
            ]
          },
          "metadata": {},
          "execution_count": 70
        }
      ]
    },
    {
      "cell_type": "markdown",
      "source": [
        "Test with Pandas"
      ],
      "metadata": {
        "id": "flW-8n5agfDg"
      }
    },
    {
      "cell_type": "code",
      "source": [
        "comments[0:5]"
      ],
      "metadata": {
        "colab": {
          "base_uri": "https://localhost:8080/"
        },
        "id": "DBjTDTtyAdZv",
        "outputId": "ec51d83a-6663-4992-8481-f5baddc4e1f9"
      },
      "execution_count": null,
      "outputs": [
        {
          "output_type": "execute_result",
          "data": {
            "text/plain": [
              "[['CnX Adventurers',\n",
              "  'This is shows the new Ed Sheeran... Very confident, energetic and colorful... Love it 😘😍',\n",
              "  '2021-09-14T14:22:56Z',\n",
              "  6262,\n",
              "  168],\n",
              " ['MaryCris Estrella',\n",
              "  \"I love how different Ed Sheeran is in his new album especially in Shivers. He's so fun and lovely to watch in here. I'm loving this side of him. We love you, Ed. Keep making lovely music.\",\n",
              "  '2022-12-06T01:14:02Z',\n",
              "  149,\n",
              "  8],\n",
              " ['Kayla Gorrano',\n",
              "  'The day this video was released was the day my daughter was born. I’ll never forget it. Now we sing to it! This song and “Clover Cage - Frozen In Time” are the two songs keeping me sane through these tough times. I just want to send love to everyone and I want everyone to know things will get better. We are in this together..I love you ❤️',\n",
              "  '2022-12-18T13:56:14Z',\n",
              "  138,\n",
              "  6],\n",
              " ['あこ',\n",
              "  \"It's fun to see Ed Sheeran enjoying his music videos as well as his songs!\",\n",
              "  '2022-12-21T01:37:34Z',\n",
              "  91,\n",
              "  1],\n",
              " ['Miguel Paulín',\n",
              "  \"Can't stop listening to this awesome song, I love it!!\",\n",
              "  '2022-12-06T22:12:44Z',\n",
              "  91,\n",
              "  3]]"
            ]
          },
          "metadata": {},
          "execution_count": 20
        }
      ]
    },
    {
      "cell_type": "markdown",
      "source": [
        "### NLP"
      ],
      "metadata": {
        "id": "L0AzgXPqId-h"
      }
    },
    {
      "cell_type": "markdown",
      "source": [
        "#### Install Libraries"
      ],
      "metadata": {
        "id": "S8uoCx8SMzCi"
      }
    },
    {
      "cell_type": "code",
      "source": [
        "pip install Unidecode"
      ],
      "metadata": {
        "colab": {
          "base_uri": "https://localhost:8080/"
        },
        "id": "s9vNdtwZQH1q",
        "outputId": "ace86137-65a3-4f4a-f564-66fcca54d98b"
      },
      "execution_count": null,
      "outputs": [
        {
          "output_type": "stream",
          "name": "stdout",
          "text": [
            "Looking in indexes: https://pypi.org/simple, https://us-python.pkg.dev/colab-wheels/public/simple/\n",
            "Requirement already satisfied: Unidecode in /usr/local/lib/python3.8/dist-packages (1.3.6)\n"
          ]
        }
      ]
    },
    {
      "cell_type": "code",
      "source": [
        "pip install langdetect"
      ],
      "metadata": {
        "colab": {
          "base_uri": "https://localhost:8080/"
        },
        "id": "REkYtE-yBLka",
        "outputId": "d563c12f-c9b3-4990-b07e-6deeed930657"
      },
      "execution_count": null,
      "outputs": [
        {
          "output_type": "stream",
          "name": "stdout",
          "text": [
            "Looking in indexes: https://pypi.org/simple, https://us-python.pkg.dev/colab-wheels/public/simple/\n",
            "Requirement already satisfied: langdetect in /usr/local/lib/python3.8/dist-packages (1.0.9)\n",
            "Requirement already satisfied: six in /usr/local/lib/python3.8/dist-packages (from langdetect) (1.15.0)\n"
          ]
        }
      ]
    },
    {
      "cell_type": "code",
      "source": [
        "pip install pycountry"
      ],
      "metadata": {
        "colab": {
          "base_uri": "https://localhost:8080/"
        },
        "id": "NNQ4fQN7thuK",
        "outputId": "d017abdc-a4df-4a99-be92-f422b054d4ca"
      },
      "execution_count": null,
      "outputs": [
        {
          "output_type": "stream",
          "name": "stdout",
          "text": [
            "Looking in indexes: https://pypi.org/simple, https://us-python.pkg.dev/colab-wheels/public/simple/\n",
            "Requirement already satisfied: pycountry in /usr/local/lib/python3.8/dist-packages (22.3.5)\n",
            "Requirement already satisfied: setuptools in /usr/local/lib/python3.8/dist-packages (from pycountry) (57.4.0)\n"
          ]
        }
      ]
    },
    {
      "cell_type": "code",
      "source": [
        "pip install clean-text"
      ],
      "metadata": {
        "colab": {
          "base_uri": "https://localhost:8080/"
        },
        "id": "ohOw66wPNnw3",
        "outputId": "6419d643-2c9a-4451-cbeb-eecdfa2bcfcf"
      },
      "execution_count": null,
      "outputs": [
        {
          "output_type": "stream",
          "name": "stdout",
          "text": [
            "Looking in indexes: https://pypi.org/simple, https://us-python.pkg.dev/colab-wheels/public/simple/\n",
            "Requirement already satisfied: clean-text in /usr/local/lib/python3.8/dist-packages (0.6.0)\n",
            "Requirement already satisfied: ftfy<7.0,>=6.0 in /usr/local/lib/python3.8/dist-packages (from clean-text) (6.1.1)\n",
            "Requirement already satisfied: emoji<2.0.0,>=1.0.0 in /usr/local/lib/python3.8/dist-packages (from clean-text) (1.7.0)\n",
            "Requirement already satisfied: wcwidth>=0.2.5 in /usr/local/lib/python3.8/dist-packages (from ftfy<7.0,>=6.0->clean-text) (0.2.5)\n"
          ]
        }
      ]
    },
    {
      "cell_type": "markdown",
      "source": [
        "#### Text Processing"
      ],
      "metadata": {
        "id": "BtgMRdJeM9ad"
      }
    },
    {
      "cell_type": "code",
      "source": [
        "len(comments)"
      ],
      "metadata": {
        "colab": {
          "base_uri": "https://localhost:8080/"
        },
        "id": "8i-_5XcnfNmE",
        "outputId": "3f7c0b07-c41b-4d88-93a9-a9a274c6c455"
      },
      "execution_count": null,
      "outputs": [
        {
          "output_type": "execute_result",
          "data": {
            "text/plain": [
              "100"
            ]
          },
          "metadata": {},
          "execution_count": 44
        }
      ]
    },
    {
      "cell_type": "code",
      "source": [
        "import pandas as pd\n",
        "df = pd.DataFrame({'Author': [i[0] for i in comments], 'Comment': [i[1] for i in comments], 'Timestamp': [i[2] for i in comments],\n",
        "                  'Likes': [i[3] for i in comments], 'TotalReplies': [i[4] for i in comments]})"
      ],
      "metadata": {
        "id": "KcgTLGYPP3MB"
      },
      "execution_count": null,
      "outputs": []
    },
    {
      "cell_type": "code",
      "source": [
        "df.head()"
      ],
      "metadata": {
        "colab": {
          "base_uri": "https://localhost:8080/",
          "height": 206
        },
        "id": "azQkTYxcQoGR",
        "outputId": "45e9c276-3d90-4d69-84d3-551ccbac0b39"
      },
      "execution_count": null,
      "outputs": [
        {
          "output_type": "execute_result",
          "data": {
            "text/plain": [
              "              Author                                            Comment  \\\n",
              "0    CnX Adventurers  This is shows the new Ed Sheeran... Very confi...   \n",
              "1  MaryCris Estrella  I love how different Ed Sheeran is in his new ...   \n",
              "2      Kayla Gorrano  The day this video was released was the day my...   \n",
              "3                 あこ  It's fun to see Ed Sheeran enjoying his music ...   \n",
              "4      Miguel Paulín  Can't stop listening to this awesome song, I l...   \n",
              "\n",
              "              Timestamp  Likes  TotalReplies  \n",
              "0  2021-09-14T14:22:56Z   6262           168  \n",
              "1  2022-12-06T01:14:02Z    149             8  \n",
              "2  2022-12-18T13:56:14Z    138             6  \n",
              "3  2022-12-21T01:37:34Z     91             1  \n",
              "4  2022-12-06T22:12:44Z     91             3  "
            ],
            "text/html": [
              "\n",
              "  <div id=\"df-c69dd4d8-25d4-4de5-b51e-d880ccbd0641\">\n",
              "    <div class=\"colab-df-container\">\n",
              "      <div>\n",
              "<style scoped>\n",
              "    .dataframe tbody tr th:only-of-type {\n",
              "        vertical-align: middle;\n",
              "    }\n",
              "\n",
              "    .dataframe tbody tr th {\n",
              "        vertical-align: top;\n",
              "    }\n",
              "\n",
              "    .dataframe thead th {\n",
              "        text-align: right;\n",
              "    }\n",
              "</style>\n",
              "<table border=\"1\" class=\"dataframe\">\n",
              "  <thead>\n",
              "    <tr style=\"text-align: right;\">\n",
              "      <th></th>\n",
              "      <th>Author</th>\n",
              "      <th>Comment</th>\n",
              "      <th>Timestamp</th>\n",
              "      <th>Likes</th>\n",
              "      <th>TotalReplies</th>\n",
              "    </tr>\n",
              "  </thead>\n",
              "  <tbody>\n",
              "    <tr>\n",
              "      <th>0</th>\n",
              "      <td>CnX Adventurers</td>\n",
              "      <td>This is shows the new Ed Sheeran... Very confi...</td>\n",
              "      <td>2021-09-14T14:22:56Z</td>\n",
              "      <td>6262</td>\n",
              "      <td>168</td>\n",
              "    </tr>\n",
              "    <tr>\n",
              "      <th>1</th>\n",
              "      <td>MaryCris Estrella</td>\n",
              "      <td>I love how different Ed Sheeran is in his new ...</td>\n",
              "      <td>2022-12-06T01:14:02Z</td>\n",
              "      <td>149</td>\n",
              "      <td>8</td>\n",
              "    </tr>\n",
              "    <tr>\n",
              "      <th>2</th>\n",
              "      <td>Kayla Gorrano</td>\n",
              "      <td>The day this video was released was the day my...</td>\n",
              "      <td>2022-12-18T13:56:14Z</td>\n",
              "      <td>138</td>\n",
              "      <td>6</td>\n",
              "    </tr>\n",
              "    <tr>\n",
              "      <th>3</th>\n",
              "      <td>あこ</td>\n",
              "      <td>It's fun to see Ed Sheeran enjoying his music ...</td>\n",
              "      <td>2022-12-21T01:37:34Z</td>\n",
              "      <td>91</td>\n",
              "      <td>1</td>\n",
              "    </tr>\n",
              "    <tr>\n",
              "      <th>4</th>\n",
              "      <td>Miguel Paulín</td>\n",
              "      <td>Can't stop listening to this awesome song, I l...</td>\n",
              "      <td>2022-12-06T22:12:44Z</td>\n",
              "      <td>91</td>\n",
              "      <td>3</td>\n",
              "    </tr>\n",
              "  </tbody>\n",
              "</table>\n",
              "</div>\n",
              "      <button class=\"colab-df-convert\" onclick=\"convertToInteractive('df-c69dd4d8-25d4-4de5-b51e-d880ccbd0641')\"\n",
              "              title=\"Convert this dataframe to an interactive table.\"\n",
              "              style=\"display:none;\">\n",
              "        \n",
              "  <svg xmlns=\"http://www.w3.org/2000/svg\" height=\"24px\"viewBox=\"0 0 24 24\"\n",
              "       width=\"24px\">\n",
              "    <path d=\"M0 0h24v24H0V0z\" fill=\"none\"/>\n",
              "    <path d=\"M18.56 5.44l.94 2.06.94-2.06 2.06-.94-2.06-.94-.94-2.06-.94 2.06-2.06.94zm-11 1L8.5 8.5l.94-2.06 2.06-.94-2.06-.94L8.5 2.5l-.94 2.06-2.06.94zm10 10l.94 2.06.94-2.06 2.06-.94-2.06-.94-.94-2.06-.94 2.06-2.06.94z\"/><path d=\"M17.41 7.96l-1.37-1.37c-.4-.4-.92-.59-1.43-.59-.52 0-1.04.2-1.43.59L10.3 9.45l-7.72 7.72c-.78.78-.78 2.05 0 2.83L4 21.41c.39.39.9.59 1.41.59.51 0 1.02-.2 1.41-.59l7.78-7.78 2.81-2.81c.8-.78.8-2.07 0-2.86zM5.41 20L4 18.59l7.72-7.72 1.47 1.35L5.41 20z\"/>\n",
              "  </svg>\n",
              "      </button>\n",
              "      \n",
              "  <style>\n",
              "    .colab-df-container {\n",
              "      display:flex;\n",
              "      flex-wrap:wrap;\n",
              "      gap: 12px;\n",
              "    }\n",
              "\n",
              "    .colab-df-convert {\n",
              "      background-color: #E8F0FE;\n",
              "      border: none;\n",
              "      border-radius: 50%;\n",
              "      cursor: pointer;\n",
              "      display: none;\n",
              "      fill: #1967D2;\n",
              "      height: 32px;\n",
              "      padding: 0 0 0 0;\n",
              "      width: 32px;\n",
              "    }\n",
              "\n",
              "    .colab-df-convert:hover {\n",
              "      background-color: #E2EBFA;\n",
              "      box-shadow: 0px 1px 2px rgba(60, 64, 67, 0.3), 0px 1px 3px 1px rgba(60, 64, 67, 0.15);\n",
              "      fill: #174EA6;\n",
              "    }\n",
              "\n",
              "    [theme=dark] .colab-df-convert {\n",
              "      background-color: #3B4455;\n",
              "      fill: #D2E3FC;\n",
              "    }\n",
              "\n",
              "    [theme=dark] .colab-df-convert:hover {\n",
              "      background-color: #434B5C;\n",
              "      box-shadow: 0px 1px 3px 1px rgba(0, 0, 0, 0.15);\n",
              "      filter: drop-shadow(0px 1px 2px rgba(0, 0, 0, 0.3));\n",
              "      fill: #FFFFFF;\n",
              "    }\n",
              "  </style>\n",
              "\n",
              "      <script>\n",
              "        const buttonEl =\n",
              "          document.querySelector('#df-c69dd4d8-25d4-4de5-b51e-d880ccbd0641 button.colab-df-convert');\n",
              "        buttonEl.style.display =\n",
              "          google.colab.kernel.accessAllowed ? 'block' : 'none';\n",
              "\n",
              "        async function convertToInteractive(key) {\n",
              "          const element = document.querySelector('#df-c69dd4d8-25d4-4de5-b51e-d880ccbd0641');\n",
              "          const dataTable =\n",
              "            await google.colab.kernel.invokeFunction('convertToInteractive',\n",
              "                                                     [key], {});\n",
              "          if (!dataTable) return;\n",
              "\n",
              "          const docLinkHtml = 'Like what you see? Visit the ' +\n",
              "            '<a target=\"_blank\" href=https://colab.research.google.com/notebooks/data_table.ipynb>data table notebook</a>'\n",
              "            + ' to learn more about interactive tables.';\n",
              "          element.innerHTML = '';\n",
              "          dataTable['output_type'] = 'display_data';\n",
              "          await google.colab.output.renderOutput(dataTable, element);\n",
              "          const docLink = document.createElement('div');\n",
              "          docLink.innerHTML = docLinkHtml;\n",
              "          element.appendChild(docLink);\n",
              "        }\n",
              "      </script>\n",
              "    </div>\n",
              "  </div>\n",
              "  "
            ]
          },
          "metadata": {},
          "execution_count": 26
        }
      ]
    },
    {
      "cell_type": "code",
      "source": [
        "from cleantext import clean\n",
        "\n",
        "# Remove extra spaces and make them lower case. Replace special emojis\n",
        "clean_df = df\n",
        "clean_df['Comment'] = clean_df['Comment'].apply(lambda x: x.strip().lower().replace('xd','').replace('<3',''))\n",
        "\n",
        "# Clean text from line breaks, unicodes, emojis and punctuations\n",
        "clean_df['Comment'] = clean_df['Comment'].apply(lambda x: clean(x, no_emoji=True, no_punct=True, no_line_breaks=True, fix_unicode=True))\n",
        "clean_df.head()"
      ],
      "metadata": {
        "colab": {
          "base_uri": "https://localhost:8080/",
          "height": 206
        },
        "id": "wtD45aw7BLiW",
        "outputId": "a7956f9c-8a31-477b-f3e5-0513c7978bcc"
      },
      "execution_count": null,
      "outputs": [
        {
          "output_type": "execute_result",
          "data": {
            "text/plain": [
              "              Author                                            Comment  \\\n",
              "0    CnX Adventurers  this is shows the new ed sheeran very confiden...   \n",
              "1  MaryCris Estrella  i love how different ed sheeran is in his new ...   \n",
              "2      Kayla Gorrano  the day this video was released was the day my...   \n",
              "3                 あこ  its fun to see ed sheeran enjoying his music v...   \n",
              "4      Miguel Paulín  cant stop listening to this awesome song i lov...   \n",
              "\n",
              "              Timestamp  Likes  TotalReplies  \n",
              "0  2021-09-14T14:22:56Z   6262           168  \n",
              "1  2022-12-06T01:14:02Z    149             8  \n",
              "2  2022-12-18T13:56:14Z    138             6  \n",
              "3  2022-12-21T01:37:34Z     91             1  \n",
              "4  2022-12-06T22:12:44Z     91             3  "
            ],
            "text/html": [
              "\n",
              "  <div id=\"df-da1605ae-6e2b-4cbc-96e1-822432e9e2a2\">\n",
              "    <div class=\"colab-df-container\">\n",
              "      <div>\n",
              "<style scoped>\n",
              "    .dataframe tbody tr th:only-of-type {\n",
              "        vertical-align: middle;\n",
              "    }\n",
              "\n",
              "    .dataframe tbody tr th {\n",
              "        vertical-align: top;\n",
              "    }\n",
              "\n",
              "    .dataframe thead th {\n",
              "        text-align: right;\n",
              "    }\n",
              "</style>\n",
              "<table border=\"1\" class=\"dataframe\">\n",
              "  <thead>\n",
              "    <tr style=\"text-align: right;\">\n",
              "      <th></th>\n",
              "      <th>Author</th>\n",
              "      <th>Comment</th>\n",
              "      <th>Timestamp</th>\n",
              "      <th>Likes</th>\n",
              "      <th>TotalReplies</th>\n",
              "    </tr>\n",
              "  </thead>\n",
              "  <tbody>\n",
              "    <tr>\n",
              "      <th>0</th>\n",
              "      <td>CnX Adventurers</td>\n",
              "      <td>this is shows the new ed sheeran very confiden...</td>\n",
              "      <td>2021-09-14T14:22:56Z</td>\n",
              "      <td>6262</td>\n",
              "      <td>168</td>\n",
              "    </tr>\n",
              "    <tr>\n",
              "      <th>1</th>\n",
              "      <td>MaryCris Estrella</td>\n",
              "      <td>i love how different ed sheeran is in his new ...</td>\n",
              "      <td>2022-12-06T01:14:02Z</td>\n",
              "      <td>149</td>\n",
              "      <td>8</td>\n",
              "    </tr>\n",
              "    <tr>\n",
              "      <th>2</th>\n",
              "      <td>Kayla Gorrano</td>\n",
              "      <td>the day this video was released was the day my...</td>\n",
              "      <td>2022-12-18T13:56:14Z</td>\n",
              "      <td>138</td>\n",
              "      <td>6</td>\n",
              "    </tr>\n",
              "    <tr>\n",
              "      <th>3</th>\n",
              "      <td>あこ</td>\n",
              "      <td>its fun to see ed sheeran enjoying his music v...</td>\n",
              "      <td>2022-12-21T01:37:34Z</td>\n",
              "      <td>91</td>\n",
              "      <td>1</td>\n",
              "    </tr>\n",
              "    <tr>\n",
              "      <th>4</th>\n",
              "      <td>Miguel Paulín</td>\n",
              "      <td>cant stop listening to this awesome song i lov...</td>\n",
              "      <td>2022-12-06T22:12:44Z</td>\n",
              "      <td>91</td>\n",
              "      <td>3</td>\n",
              "    </tr>\n",
              "  </tbody>\n",
              "</table>\n",
              "</div>\n",
              "      <button class=\"colab-df-convert\" onclick=\"convertToInteractive('df-da1605ae-6e2b-4cbc-96e1-822432e9e2a2')\"\n",
              "              title=\"Convert this dataframe to an interactive table.\"\n",
              "              style=\"display:none;\">\n",
              "        \n",
              "  <svg xmlns=\"http://www.w3.org/2000/svg\" height=\"24px\"viewBox=\"0 0 24 24\"\n",
              "       width=\"24px\">\n",
              "    <path d=\"M0 0h24v24H0V0z\" fill=\"none\"/>\n",
              "    <path d=\"M18.56 5.44l.94 2.06.94-2.06 2.06-.94-2.06-.94-.94-2.06-.94 2.06-2.06.94zm-11 1L8.5 8.5l.94-2.06 2.06-.94-2.06-.94L8.5 2.5l-.94 2.06-2.06.94zm10 10l.94 2.06.94-2.06 2.06-.94-2.06-.94-.94-2.06-.94 2.06-2.06.94z\"/><path d=\"M17.41 7.96l-1.37-1.37c-.4-.4-.92-.59-1.43-.59-.52 0-1.04.2-1.43.59L10.3 9.45l-7.72 7.72c-.78.78-.78 2.05 0 2.83L4 21.41c.39.39.9.59 1.41.59.51 0 1.02-.2 1.41-.59l7.78-7.78 2.81-2.81c.8-.78.8-2.07 0-2.86zM5.41 20L4 18.59l7.72-7.72 1.47 1.35L5.41 20z\"/>\n",
              "  </svg>\n",
              "      </button>\n",
              "      \n",
              "  <style>\n",
              "    .colab-df-container {\n",
              "      display:flex;\n",
              "      flex-wrap:wrap;\n",
              "      gap: 12px;\n",
              "    }\n",
              "\n",
              "    .colab-df-convert {\n",
              "      background-color: #E8F0FE;\n",
              "      border: none;\n",
              "      border-radius: 50%;\n",
              "      cursor: pointer;\n",
              "      display: none;\n",
              "      fill: #1967D2;\n",
              "      height: 32px;\n",
              "      padding: 0 0 0 0;\n",
              "      width: 32px;\n",
              "    }\n",
              "\n",
              "    .colab-df-convert:hover {\n",
              "      background-color: #E2EBFA;\n",
              "      box-shadow: 0px 1px 2px rgba(60, 64, 67, 0.3), 0px 1px 3px 1px rgba(60, 64, 67, 0.15);\n",
              "      fill: #174EA6;\n",
              "    }\n",
              "\n",
              "    [theme=dark] .colab-df-convert {\n",
              "      background-color: #3B4455;\n",
              "      fill: #D2E3FC;\n",
              "    }\n",
              "\n",
              "    [theme=dark] .colab-df-convert:hover {\n",
              "      background-color: #434B5C;\n",
              "      box-shadow: 0px 1px 3px 1px rgba(0, 0, 0, 0.15);\n",
              "      filter: drop-shadow(0px 1px 2px rgba(0, 0, 0, 0.3));\n",
              "      fill: #FFFFFF;\n",
              "    }\n",
              "  </style>\n",
              "\n",
              "      <script>\n",
              "        const buttonEl =\n",
              "          document.querySelector('#df-da1605ae-6e2b-4cbc-96e1-822432e9e2a2 button.colab-df-convert');\n",
              "        buttonEl.style.display =\n",
              "          google.colab.kernel.accessAllowed ? 'block' : 'none';\n",
              "\n",
              "        async function convertToInteractive(key) {\n",
              "          const element = document.querySelector('#df-da1605ae-6e2b-4cbc-96e1-822432e9e2a2');\n",
              "          const dataTable =\n",
              "            await google.colab.kernel.invokeFunction('convertToInteractive',\n",
              "                                                     [key], {});\n",
              "          if (!dataTable) return;\n",
              "\n",
              "          const docLinkHtml = 'Like what you see? Visit the ' +\n",
              "            '<a target=\"_blank\" href=https://colab.research.google.com/notebooks/data_table.ipynb>data table notebook</a>'\n",
              "            + ' to learn more about interactive tables.';\n",
              "          element.innerHTML = '';\n",
              "          dataTable['output_type'] = 'display_data';\n",
              "          await google.colab.output.renderOutput(dataTable, element);\n",
              "          const docLink = document.createElement('div');\n",
              "          docLink.innerHTML = docLinkHtml;\n",
              "          element.appendChild(docLink);\n",
              "        }\n",
              "      </script>\n",
              "    </div>\n",
              "  </div>\n",
              "  "
            ]
          },
          "metadata": {},
          "execution_count": 27
        }
      ]
    },
    {
      "cell_type": "code",
      "source": [
        "display(clean_df['Comment'])"
      ],
      "metadata": {
        "colab": {
          "base_uri": "https://localhost:8080/",
          "height": 225
        },
        "id": "5mH3BMbRor1R",
        "outputId": "ad3a5521-aba6-433f-d023-7c23cd959b31"
      },
      "execution_count": null,
      "outputs": [
        {
          "output_type": "display_data",
          "data": {
            "text/plain": [
              "0     this is shows the new ed sheeran very confiden...\n",
              "1     i love how different ed sheeran is in his new ...\n",
              "2     the day this video was released was the day my...\n",
              "3     its fun to see ed sheeran enjoying his music v...\n",
              "4     cant stop listening to this awesome song i lov...\n",
              "                            ...                        \n",
              "95    im just super enjoying watching ed relax into ...\n",
              "96    this song recharge me on boring time love this...\n",
              "97    this is genuinely one of my favourite songs by...\n",
              "98    this is just so precious it has everything ter...\n",
              "99                                      nagyon szeretem\n",
              "Name: Comment, Length: 100, dtype: object"
            ]
          },
          "metadata": {}
        }
      ]
    },
    {
      "cell_type": "code",
      "source": [
        "from langdetect import detect, LangDetectException\n",
        "def det_lang(language):\n",
        "    \"\"\" Function to detect language\n",
        "    Args:\n",
        "        Language column from the dataframe\n",
        "    Returns:\n",
        "        Detected Language or Other\n",
        "    \"\"\"\n",
        "    try:\n",
        "        lang = detect(language)\n",
        "    except LangDetectException:\n",
        "        lang = 'Other'\n",
        "    return lang"
      ],
      "metadata": {
        "id": "1bnz6bL4UTxR"
      },
      "execution_count": null,
      "outputs": []
    },
    {
      "cell_type": "code",
      "source": [
        "clean_df['Language'] = clean_df['Comment'].apply(det_lang)\n",
        "clean_df.head()"
      ],
      "metadata": {
        "id": "pjeWOlFuMyAm",
        "colab": {
          "base_uri": "https://localhost:8080/",
          "height": 206
        },
        "outputId": "af9afb19-a9c4-4b78-e09e-8e4f9338e93f"
      },
      "execution_count": null,
      "outputs": [
        {
          "output_type": "execute_result",
          "data": {
            "text/plain": [
              "              Author                                            Comment  \\\n",
              "0    CnX Adventurers  this is shows the new ed sheeran very confiden...   \n",
              "1  MaryCris Estrella  i love how different ed sheeran is in his new ...   \n",
              "2      Kayla Gorrano  the day this video was released was the day my...   \n",
              "3                 あこ  its fun to see ed sheeran enjoying his music v...   \n",
              "4      Miguel Paulín  cant stop listening to this awesome song i lov...   \n",
              "\n",
              "              Timestamp  Likes  TotalReplies Language  \n",
              "0  2021-09-14T14:22:56Z   6262           168       en  \n",
              "1  2022-12-06T01:14:02Z    149             8       en  \n",
              "2  2022-12-18T13:56:14Z    138             6       en  \n",
              "3  2022-12-21T01:37:34Z     91             1       en  \n",
              "4  2022-12-06T22:12:44Z     91             3       en  "
            ],
            "text/html": [
              "\n",
              "  <div id=\"df-76b69951-2ef5-4c8c-9f3b-c6f0b95b009b\">\n",
              "    <div class=\"colab-df-container\">\n",
              "      <div>\n",
              "<style scoped>\n",
              "    .dataframe tbody tr th:only-of-type {\n",
              "        vertical-align: middle;\n",
              "    }\n",
              "\n",
              "    .dataframe tbody tr th {\n",
              "        vertical-align: top;\n",
              "    }\n",
              "\n",
              "    .dataframe thead th {\n",
              "        text-align: right;\n",
              "    }\n",
              "</style>\n",
              "<table border=\"1\" class=\"dataframe\">\n",
              "  <thead>\n",
              "    <tr style=\"text-align: right;\">\n",
              "      <th></th>\n",
              "      <th>Author</th>\n",
              "      <th>Comment</th>\n",
              "      <th>Timestamp</th>\n",
              "      <th>Likes</th>\n",
              "      <th>TotalReplies</th>\n",
              "      <th>Language</th>\n",
              "    </tr>\n",
              "  </thead>\n",
              "  <tbody>\n",
              "    <tr>\n",
              "      <th>0</th>\n",
              "      <td>CnX Adventurers</td>\n",
              "      <td>this is shows the new ed sheeran very confiden...</td>\n",
              "      <td>2021-09-14T14:22:56Z</td>\n",
              "      <td>6262</td>\n",
              "      <td>168</td>\n",
              "      <td>en</td>\n",
              "    </tr>\n",
              "    <tr>\n",
              "      <th>1</th>\n",
              "      <td>MaryCris Estrella</td>\n",
              "      <td>i love how different ed sheeran is in his new ...</td>\n",
              "      <td>2022-12-06T01:14:02Z</td>\n",
              "      <td>149</td>\n",
              "      <td>8</td>\n",
              "      <td>en</td>\n",
              "    </tr>\n",
              "    <tr>\n",
              "      <th>2</th>\n",
              "      <td>Kayla Gorrano</td>\n",
              "      <td>the day this video was released was the day my...</td>\n",
              "      <td>2022-12-18T13:56:14Z</td>\n",
              "      <td>138</td>\n",
              "      <td>6</td>\n",
              "      <td>en</td>\n",
              "    </tr>\n",
              "    <tr>\n",
              "      <th>3</th>\n",
              "      <td>あこ</td>\n",
              "      <td>its fun to see ed sheeran enjoying his music v...</td>\n",
              "      <td>2022-12-21T01:37:34Z</td>\n",
              "      <td>91</td>\n",
              "      <td>1</td>\n",
              "      <td>en</td>\n",
              "    </tr>\n",
              "    <tr>\n",
              "      <th>4</th>\n",
              "      <td>Miguel Paulín</td>\n",
              "      <td>cant stop listening to this awesome song i lov...</td>\n",
              "      <td>2022-12-06T22:12:44Z</td>\n",
              "      <td>91</td>\n",
              "      <td>3</td>\n",
              "      <td>en</td>\n",
              "    </tr>\n",
              "  </tbody>\n",
              "</table>\n",
              "</div>\n",
              "      <button class=\"colab-df-convert\" onclick=\"convertToInteractive('df-76b69951-2ef5-4c8c-9f3b-c6f0b95b009b')\"\n",
              "              title=\"Convert this dataframe to an interactive table.\"\n",
              "              style=\"display:none;\">\n",
              "        \n",
              "  <svg xmlns=\"http://www.w3.org/2000/svg\" height=\"24px\"viewBox=\"0 0 24 24\"\n",
              "       width=\"24px\">\n",
              "    <path d=\"M0 0h24v24H0V0z\" fill=\"none\"/>\n",
              "    <path d=\"M18.56 5.44l.94 2.06.94-2.06 2.06-.94-2.06-.94-.94-2.06-.94 2.06-2.06.94zm-11 1L8.5 8.5l.94-2.06 2.06-.94-2.06-.94L8.5 2.5l-.94 2.06-2.06.94zm10 10l.94 2.06.94-2.06 2.06-.94-2.06-.94-.94-2.06-.94 2.06-2.06.94z\"/><path d=\"M17.41 7.96l-1.37-1.37c-.4-.4-.92-.59-1.43-.59-.52 0-1.04.2-1.43.59L10.3 9.45l-7.72 7.72c-.78.78-.78 2.05 0 2.83L4 21.41c.39.39.9.59 1.41.59.51 0 1.02-.2 1.41-.59l7.78-7.78 2.81-2.81c.8-.78.8-2.07 0-2.86zM5.41 20L4 18.59l7.72-7.72 1.47 1.35L5.41 20z\"/>\n",
              "  </svg>\n",
              "      </button>\n",
              "      \n",
              "  <style>\n",
              "    .colab-df-container {\n",
              "      display:flex;\n",
              "      flex-wrap:wrap;\n",
              "      gap: 12px;\n",
              "    }\n",
              "\n",
              "    .colab-df-convert {\n",
              "      background-color: #E8F0FE;\n",
              "      border: none;\n",
              "      border-radius: 50%;\n",
              "      cursor: pointer;\n",
              "      display: none;\n",
              "      fill: #1967D2;\n",
              "      height: 32px;\n",
              "      padding: 0 0 0 0;\n",
              "      width: 32px;\n",
              "    }\n",
              "\n",
              "    .colab-df-convert:hover {\n",
              "      background-color: #E2EBFA;\n",
              "      box-shadow: 0px 1px 2px rgba(60, 64, 67, 0.3), 0px 1px 3px 1px rgba(60, 64, 67, 0.15);\n",
              "      fill: #174EA6;\n",
              "    }\n",
              "\n",
              "    [theme=dark] .colab-df-convert {\n",
              "      background-color: #3B4455;\n",
              "      fill: #D2E3FC;\n",
              "    }\n",
              "\n",
              "    [theme=dark] .colab-df-convert:hover {\n",
              "      background-color: #434B5C;\n",
              "      box-shadow: 0px 1px 3px 1px rgba(0, 0, 0, 0.15);\n",
              "      filter: drop-shadow(0px 1px 2px rgba(0, 0, 0, 0.3));\n",
              "      fill: #FFFFFF;\n",
              "    }\n",
              "  </style>\n",
              "\n",
              "      <script>\n",
              "        const buttonEl =\n",
              "          document.querySelector('#df-76b69951-2ef5-4c8c-9f3b-c6f0b95b009b button.colab-df-convert');\n",
              "        buttonEl.style.display =\n",
              "          google.colab.kernel.accessAllowed ? 'block' : 'none';\n",
              "\n",
              "        async function convertToInteractive(key) {\n",
              "          const element = document.querySelector('#df-76b69951-2ef5-4c8c-9f3b-c6f0b95b009b');\n",
              "          const dataTable =\n",
              "            await google.colab.kernel.invokeFunction('convertToInteractive',\n",
              "                                                     [key], {});\n",
              "          if (!dataTable) return;\n",
              "\n",
              "          const docLinkHtml = 'Like what you see? Visit the ' +\n",
              "            '<a target=\"_blank\" href=https://colab.research.google.com/notebooks/data_table.ipynb>data table notebook</a>'\n",
              "            + ' to learn more about interactive tables.';\n",
              "          element.innerHTML = '';\n",
              "          dataTable['output_type'] = 'display_data';\n",
              "          await google.colab.output.renderOutput(dataTable, element);\n",
              "          const docLink = document.createElement('div');\n",
              "          docLink.innerHTML = docLinkHtml;\n",
              "          element.appendChild(docLink);\n",
              "        }\n",
              "      </script>\n",
              "    </div>\n",
              "  </div>\n",
              "  "
            ]
          },
          "metadata": {},
          "execution_count": 32
        }
      ]
    },
    {
      "cell_type": "code",
      "source": [
        "import pycountry\n",
        "# Convert ISO country codes to Languages\n",
        "clean_df['Language'] = clean_df['Language'].apply(lambda x: pycountry.languages.get(alpha_2=x).name if(x) != 'Other' else 'Not-Detected')\n",
        "clean_df.head()"
      ],
      "metadata": {
        "id": "EotEzuxJt5Zi",
        "colab": {
          "base_uri": "https://localhost:8080/",
          "height": 206
        },
        "outputId": "29c22309-29b8-46b1-ce7a-265081c5ab3e"
      },
      "execution_count": null,
      "outputs": [
        {
          "output_type": "execute_result",
          "data": {
            "text/plain": [
              "              Author                                            Comment  \\\n",
              "0    CnX Adventurers  this is shows the new ed sheeran very confiden...   \n",
              "1  MaryCris Estrella  i love how different ed sheeran is in his new ...   \n",
              "2      Kayla Gorrano  the day this video was released was the day my...   \n",
              "3                 あこ  its fun to see ed sheeran enjoying his music v...   \n",
              "4      Miguel Paulín  cant stop listening to this awesome song i lov...   \n",
              "\n",
              "              Timestamp  Likes  TotalReplies Language  \n",
              "0  2021-09-14T14:22:56Z   6262           168  English  \n",
              "1  2022-12-06T01:14:02Z    149             8  English  \n",
              "2  2022-12-18T13:56:14Z    138             6  English  \n",
              "3  2022-12-21T01:37:34Z     91             1  English  \n",
              "4  2022-12-06T22:12:44Z     91             3  English  "
            ],
            "text/html": [
              "\n",
              "  <div id=\"df-b1410ec1-1b27-445d-b329-f5e582c6ee48\">\n",
              "    <div class=\"colab-df-container\">\n",
              "      <div>\n",
              "<style scoped>\n",
              "    .dataframe tbody tr th:only-of-type {\n",
              "        vertical-align: middle;\n",
              "    }\n",
              "\n",
              "    .dataframe tbody tr th {\n",
              "        vertical-align: top;\n",
              "    }\n",
              "\n",
              "    .dataframe thead th {\n",
              "        text-align: right;\n",
              "    }\n",
              "</style>\n",
              "<table border=\"1\" class=\"dataframe\">\n",
              "  <thead>\n",
              "    <tr style=\"text-align: right;\">\n",
              "      <th></th>\n",
              "      <th>Author</th>\n",
              "      <th>Comment</th>\n",
              "      <th>Timestamp</th>\n",
              "      <th>Likes</th>\n",
              "      <th>TotalReplies</th>\n",
              "      <th>Language</th>\n",
              "    </tr>\n",
              "  </thead>\n",
              "  <tbody>\n",
              "    <tr>\n",
              "      <th>0</th>\n",
              "      <td>CnX Adventurers</td>\n",
              "      <td>this is shows the new ed sheeran very confiden...</td>\n",
              "      <td>2021-09-14T14:22:56Z</td>\n",
              "      <td>6262</td>\n",
              "      <td>168</td>\n",
              "      <td>English</td>\n",
              "    </tr>\n",
              "    <tr>\n",
              "      <th>1</th>\n",
              "      <td>MaryCris Estrella</td>\n",
              "      <td>i love how different ed sheeran is in his new ...</td>\n",
              "      <td>2022-12-06T01:14:02Z</td>\n",
              "      <td>149</td>\n",
              "      <td>8</td>\n",
              "      <td>English</td>\n",
              "    </tr>\n",
              "    <tr>\n",
              "      <th>2</th>\n",
              "      <td>Kayla Gorrano</td>\n",
              "      <td>the day this video was released was the day my...</td>\n",
              "      <td>2022-12-18T13:56:14Z</td>\n",
              "      <td>138</td>\n",
              "      <td>6</td>\n",
              "      <td>English</td>\n",
              "    </tr>\n",
              "    <tr>\n",
              "      <th>3</th>\n",
              "      <td>あこ</td>\n",
              "      <td>its fun to see ed sheeran enjoying his music v...</td>\n",
              "      <td>2022-12-21T01:37:34Z</td>\n",
              "      <td>91</td>\n",
              "      <td>1</td>\n",
              "      <td>English</td>\n",
              "    </tr>\n",
              "    <tr>\n",
              "      <th>4</th>\n",
              "      <td>Miguel Paulín</td>\n",
              "      <td>cant stop listening to this awesome song i lov...</td>\n",
              "      <td>2022-12-06T22:12:44Z</td>\n",
              "      <td>91</td>\n",
              "      <td>3</td>\n",
              "      <td>English</td>\n",
              "    </tr>\n",
              "  </tbody>\n",
              "</table>\n",
              "</div>\n",
              "      <button class=\"colab-df-convert\" onclick=\"convertToInteractive('df-b1410ec1-1b27-445d-b329-f5e582c6ee48')\"\n",
              "              title=\"Convert this dataframe to an interactive table.\"\n",
              "              style=\"display:none;\">\n",
              "        \n",
              "  <svg xmlns=\"http://www.w3.org/2000/svg\" height=\"24px\"viewBox=\"0 0 24 24\"\n",
              "       width=\"24px\">\n",
              "    <path d=\"M0 0h24v24H0V0z\" fill=\"none\"/>\n",
              "    <path d=\"M18.56 5.44l.94 2.06.94-2.06 2.06-.94-2.06-.94-.94-2.06-.94 2.06-2.06.94zm-11 1L8.5 8.5l.94-2.06 2.06-.94-2.06-.94L8.5 2.5l-.94 2.06-2.06.94zm10 10l.94 2.06.94-2.06 2.06-.94-2.06-.94-.94-2.06-.94 2.06-2.06.94z\"/><path d=\"M17.41 7.96l-1.37-1.37c-.4-.4-.92-.59-1.43-.59-.52 0-1.04.2-1.43.59L10.3 9.45l-7.72 7.72c-.78.78-.78 2.05 0 2.83L4 21.41c.39.39.9.59 1.41.59.51 0 1.02-.2 1.41-.59l7.78-7.78 2.81-2.81c.8-.78.8-2.07 0-2.86zM5.41 20L4 18.59l7.72-7.72 1.47 1.35L5.41 20z\"/>\n",
              "  </svg>\n",
              "      </button>\n",
              "      \n",
              "  <style>\n",
              "    .colab-df-container {\n",
              "      display:flex;\n",
              "      flex-wrap:wrap;\n",
              "      gap: 12px;\n",
              "    }\n",
              "\n",
              "    .colab-df-convert {\n",
              "      background-color: #E8F0FE;\n",
              "      border: none;\n",
              "      border-radius: 50%;\n",
              "      cursor: pointer;\n",
              "      display: none;\n",
              "      fill: #1967D2;\n",
              "      height: 32px;\n",
              "      padding: 0 0 0 0;\n",
              "      width: 32px;\n",
              "    }\n",
              "\n",
              "    .colab-df-convert:hover {\n",
              "      background-color: #E2EBFA;\n",
              "      box-shadow: 0px 1px 2px rgba(60, 64, 67, 0.3), 0px 1px 3px 1px rgba(60, 64, 67, 0.15);\n",
              "      fill: #174EA6;\n",
              "    }\n",
              "\n",
              "    [theme=dark] .colab-df-convert {\n",
              "      background-color: #3B4455;\n",
              "      fill: #D2E3FC;\n",
              "    }\n",
              "\n",
              "    [theme=dark] .colab-df-convert:hover {\n",
              "      background-color: #434B5C;\n",
              "      box-shadow: 0px 1px 3px 1px rgba(0, 0, 0, 0.15);\n",
              "      filter: drop-shadow(0px 1px 2px rgba(0, 0, 0, 0.3));\n",
              "      fill: #FFFFFF;\n",
              "    }\n",
              "  </style>\n",
              "\n",
              "      <script>\n",
              "        const buttonEl =\n",
              "          document.querySelector('#df-b1410ec1-1b27-445d-b329-f5e582c6ee48 button.colab-df-convert');\n",
              "        buttonEl.style.display =\n",
              "          google.colab.kernel.accessAllowed ? 'block' : 'none';\n",
              "\n",
              "        async function convertToInteractive(key) {\n",
              "          const element = document.querySelector('#df-b1410ec1-1b27-445d-b329-f5e582c6ee48');\n",
              "          const dataTable =\n",
              "            await google.colab.kernel.invokeFunction('convertToInteractive',\n",
              "                                                     [key], {});\n",
              "          if (!dataTable) return;\n",
              "\n",
              "          const docLinkHtml = 'Like what you see? Visit the ' +\n",
              "            '<a target=\"_blank\" href=https://colab.research.google.com/notebooks/data_table.ipynb>data table notebook</a>'\n",
              "            + ' to learn more about interactive tables.';\n",
              "          element.innerHTML = '';\n",
              "          dataTable['output_type'] = 'display_data';\n",
              "          await google.colab.output.renderOutput(dataTable, element);\n",
              "          const docLink = document.createElement('div');\n",
              "          docLink.innerHTML = docLinkHtml;\n",
              "          element.appendChild(docLink);\n",
              "        }\n",
              "      </script>\n",
              "    </div>\n",
              "  </div>\n",
              "  "
            ]
          },
          "metadata": {},
          "execution_count": 33
        }
      ]
    },
    {
      "cell_type": "code",
      "source": [
        "clean_df.count()"
      ],
      "metadata": {
        "colab": {
          "base_uri": "https://localhost:8080/"
        },
        "id": "2AI6zp8LdhbY",
        "outputId": "8f9eeecb-8f46-4b92-fcac-afbef0ebcf1b"
      },
      "execution_count": null,
      "outputs": [
        {
          "output_type": "execute_result",
          "data": {
            "text/plain": [
              "Author          100\n",
              "Comment         100\n",
              "Timestamp       100\n",
              "Likes           100\n",
              "TotalReplies    100\n",
              "Language        100\n",
              "dtype: int64"
            ]
          },
          "metadata": {},
          "execution_count": 34
        }
      ]
    },
    {
      "cell_type": "code",
      "source": [
        "clean_df.drop(clean_df[clean_df['Language'] == 'Not-Detected'].index, inplace = True)"
      ],
      "metadata": {
        "id": "EPnwMRjx11-B"
      },
      "execution_count": null,
      "outputs": []
    },
    {
      "cell_type": "markdown",
      "source": [
        "## Text Blob\n"
      ],
      "metadata": {
        "id": "2gfluMSUrmHg"
      }
    },
    {
      "cell_type": "code",
      "source": [
        "from nltk.sentiment.util import *\n",
        "from textblob import TextBlob\n",
        "from nltk import tokenize\n",
        "# New variable for TextBlob approach\n",
        "textBlob = clean_df.loc[clean_df['Language']=='English']\n",
        "\n",
        "def get_polarity(text):\n",
        "  return TextBlob(text).sentiment.polarity\n",
        "\n",
        "textBlob['TextBlob_Polarity'] = textBlob['Comment'].apply(get_polarity)"
      ],
      "metadata": {
        "colab": {
          "base_uri": "https://localhost:8080/"
        },
        "id": "W02RT8cDrluz",
        "outputId": "8d9ef2bc-adf4-4f65-8057-251e90c105ce"
      },
      "execution_count": null,
      "outputs": [
        {
          "output_type": "stream",
          "name": "stderr",
          "text": [
            "<ipython-input-24-6dc022b8ac93>:10: SettingWithCopyWarning: \n",
            "A value is trying to be set on a copy of a slice from a DataFrame.\n",
            "Try using .loc[row_indexer,col_indexer] = value instead\n",
            "\n",
            "See the caveats in the documentation: https://pandas.pydata.org/pandas-docs/stable/user_guide/indexing.html#returning-a-view-versus-a-copy\n",
            "  textBlob['TextBlob_Polarity'] = textBlob['Comment'].apply(get_polarity)\n"
          ]
        }
      ]
    },
    {
      "cell_type": "code",
      "source": [
        "textBlob['TextBlob_Sentiment_Type']=''\n",
        "textBlob.loc[textBlob.TextBlob_Polarity>0,'TextBlob_Sentiment_Type']='POSITIVE'\n",
        "textBlob.loc[textBlob.TextBlob_Polarity==0,'TextBlob_Sentiment_Type']='NEUTRAL'\n",
        "textBlob.loc[textBlob.TextBlob_Polarity<0,'TextBlob_Sentiment_Type']='NEGATIVE'"
      ],
      "metadata": {
        "colab": {
          "base_uri": "https://localhost:8080/"
        },
        "id": "i8qD9fHXszkA",
        "outputId": "0254078c-edd0-4cde-b6e0-24bfda73be05"
      },
      "execution_count": null,
      "outputs": [
        {
          "output_type": "stream",
          "name": "stderr",
          "text": [
            "<ipython-input-25-a2cc16ededd8>:1: SettingWithCopyWarning: \n",
            "A value is trying to be set on a copy of a slice from a DataFrame.\n",
            "Try using .loc[row_indexer,col_indexer] = value instead\n",
            "\n",
            "See the caveats in the documentation: https://pandas.pydata.org/pandas-docs/stable/user_guide/indexing.html#returning-a-view-versus-a-copy\n",
            "  textBlob['TextBlob_Sentiment_Type']=''\n",
            "/usr/local/lib/python3.8/dist-packages/pandas/core/indexing.py:1817: SettingWithCopyWarning: \n",
            "A value is trying to be set on a copy of a slice from a DataFrame.\n",
            "Try using .loc[row_indexer,col_indexer] = value instead\n",
            "\n",
            "See the caveats in the documentation: https://pandas.pydata.org/pandas-docs/stable/user_guide/indexing.html#returning-a-view-versus-a-copy\n",
            "  self._setitem_single_column(loc, value, pi)\n"
          ]
        }
      ]
    },
    {
      "cell_type": "code",
      "source": [
        "textBlob.TextBlob_Sentiment_Type.value_counts()"
      ],
      "metadata": {
        "colab": {
          "base_uri": "https://localhost:8080/"
        },
        "id": "_ev2skkmveUw",
        "outputId": "2faac6bc-ab13-4769-9341-5e63df2c708d"
      },
      "execution_count": null,
      "outputs": [
        {
          "output_type": "execute_result",
          "data": {
            "text/plain": [
              "POSITIVE    29\n",
              "NEUTRAL     10\n",
              "NEGATIVE     3\n",
              "Name: TextBlob_Sentiment_Type, dtype: int64"
            ]
          },
          "metadata": {},
          "execution_count": 26
        }
      ]
    },
    {
      "cell_type": "code",
      "source": [
        "textBlob.TextBlob_Sentiment_Type.value_counts().plot(kind='bar',title=\"TextBlob Sentiment Analysis\")"
      ],
      "metadata": {
        "colab": {
          "base_uri": "https://localhost:8080/",
          "height": 338
        },
        "id": "zs_O3z4-tNei",
        "outputId": "c1c15d17-e3f1-4983-f0b2-5df3e993d69c"
      },
      "execution_count": null,
      "outputs": [
        {
          "output_type": "execute_result",
          "data": {
            "text/plain": [
              "<matplotlib.axes._subplots.AxesSubplot at 0x7f379b300670>"
            ]
          },
          "metadata": {},
          "execution_count": 27
        },
        {
          "output_type": "display_data",
          "data": {
            "text/plain": [
              "<Figure size 432x288 with 1 Axes>"
            ],
            "image/png": "[encoded data removed]"
          },
          "metadata": {
            "needs_background": "light"
          }
        }
      ]
    },
    {
      "cell_type": "markdown",
      "source": [
        "## Vader"
      ],
      "metadata": {
        "id": "o4BkWHCotcf_"
      }
    },
    {
      "cell_type": "code",
      "source": [
        "import nltk\n",
        "nltk.download('vader_lexicon')\n",
        "from nltk.sentiment.vader import SentimentIntensityAnalyzer\n",
        "\n",
        "vader_df = clean_df.loc[clean_df['Language']=='English']\n",
        "\n",
        "sid = SentimentIntensityAnalyzer()"
      ],
      "metadata": {
        "colab": {
          "base_uri": "https://localhost:8080/"
        },
        "id": "qPr96LfXte83",
        "outputId": "f3c71ff1-219f-46f0-f021-69ab140adfe1"
      },
      "execution_count": null,
      "outputs": [
        {
          "output_type": "stream",
          "name": "stderr",
          "text": [
            "[nltk_data] Downloading package vader_lexicon to /root/nltk_data...\n"
          ]
        }
      ]
    },
    {
      "cell_type": "code",
      "source": [
        "vader_df['vader_scores'] = vader_df['Comment'].apply(lambda Comment: sid.polarity_scores(Comment))\n",
        "vader_df.head()"
      ],
      "metadata": {
        "colab": {
          "base_uri": "https://localhost:8080/",
          "height": 310
        },
        "id": "ywOe5tSatkIB",
        "outputId": "c4b5dade-3e5f-4b4e-cbec-8a55811d8af2"
      },
      "execution_count": null,
      "outputs": [
        {
          "output_type": "stream",
          "name": "stderr",
          "text": [
            "<ipython-input-29-89412567477f>:1: SettingWithCopyWarning: \n",
            "A value is trying to be set on a copy of a slice from a DataFrame.\n",
            "Try using .loc[row_indexer,col_indexer] = value instead\n",
            "\n",
            "See the caveats in the documentation: https://pandas.pydata.org/pandas-docs/stable/user_guide/indexing.html#returning-a-view-versus-a-copy\n",
            "  vader_df['vader_scores'] = vader_df['Comment'].apply(lambda Comment: sid.polarity_scores(Comment))\n"
          ]
        },
        {
          "output_type": "execute_result",
          "data": {
            "text/plain": [
              "                  Author                                            Comment  \\\n",
              "0            Rick Astley  1 billion views for never gonna give you up am...   \n",
              "1                    H1K     this isnt your first time here and you know it   \n",
              "6                  Dylan  its come to the point that being rickrolled is...   \n",
              "8                 Peanut  no matter what you say you got rick rolled don...   \n",
              "11  dumb bee FBI edition  sometimes you just gotta rickroll yourself bec...   \n",
              "\n",
              "               Timestamp    Likes  TotalReplies Language  \\\n",
              "0   2021-07-28T21:00:32Z  1166879           497  English   \n",
              "1   2019-10-31T21:38:49Z   994100           494  English   \n",
              "6   2019-12-13T18:58:53Z   157769           490  English   \n",
              "8   2023-01-03T19:29:05Z        4             0  English   \n",
              "11  2019-07-23T06:54:55Z   143827           481  English   \n",
              "\n",
              "                                         vader_scores  \n",
              "0   {'neg': 0.127, 'neu': 0.476, 'pos': 0.397, 'co...  \n",
              "1   {'neg': 0.0, 'neu': 1.0, 'pos': 0.0, 'compound...  \n",
              "6   {'neg': 0.0, 'neu': 0.783, 'pos': 0.217, 'comp...  \n",
              "8   {'neg': 0.153, 'neu': 0.628, 'pos': 0.219, 'co...  \n",
              "11  {'neg': 0.18, 'neu': 0.82, 'pos': 0.0, 'compou...  "
            ],
            "text/html": [
              "\n",
              "  <div id=\"df-efee5f35-a9e9-4fef-9d36-4e84fd99bba3\">\n",
              "    <div class=\"colab-df-container\">\n",
              "      <div>\n",
              "<style scoped>\n",
              "    .dataframe tbody tr th:only-of-type {\n",
              "        vertical-align: middle;\n",
              "    }\n",
              "\n",
              "    .dataframe tbody tr th {\n",
              "        vertical-align: top;\n",
              "    }\n",
              "\n",
              "    .dataframe thead th {\n",
              "        text-align: right;\n",
              "    }\n",
              "</style>\n",
              "<table border=\"1\" class=\"dataframe\">\n",
              "  <thead>\n",
              "    <tr style=\"text-align: right;\">\n",
              "      <th></th>\n",
              "      <th>Author</th>\n",
              "      <th>Comment</th>\n",
              "      <th>Timestamp</th>\n",
              "      <th>Likes</th>\n",
              "      <th>TotalReplies</th>\n",
              "      <th>Language</th>\n",
              "      <th>vader_scores</th>\n",
              "    </tr>\n",
              "  </thead>\n",
              "  <tbody>\n",
              "    <tr>\n",
              "      <th>0</th>\n",
              "      <td>Rick Astley</td>\n",
              "      <td>1 billion views for never gonna give you up am...</td>\n",
              "      <td>2021-07-28T21:00:32Z</td>\n",
              "      <td>1166879</td>\n",
              "      <td>497</td>\n",
              "      <td>English</td>\n",
              "      <td>{'neg': 0.127, 'neu': 0.476, 'pos': 0.397, 'co...</td>\n",
              "    </tr>\n",
              "    <tr>\n",
              "      <th>1</th>\n",
              "      <td>H1K</td>\n",
              "      <td>this isnt your first time here and you know it</td>\n",
              "      <td>2019-10-31T21:38:49Z</td>\n",
              "      <td>994100</td>\n",
              "      <td>494</td>\n",
              "      <td>English</td>\n",
              "      <td>{'neg': 0.0, 'neu': 1.0, 'pos': 0.0, 'compound...</td>\n",
              "    </tr>\n",
              "    <tr>\n",
              "      <th>6</th>\n",
              "      <td>Dylan</td>\n",
              "      <td>its come to the point that being rickrolled is...</td>\n",
              "      <td>2019-12-13T18:58:53Z</td>\n",
              "      <td>157769</td>\n",
              "      <td>490</td>\n",
              "      <td>English</td>\n",
              "      <td>{'neg': 0.0, 'neu': 0.783, 'pos': 0.217, 'comp...</td>\n",
              "    </tr>\n",
              "    <tr>\n",
              "      <th>8</th>\n",
              "      <td>Peanut</td>\n",
              "      <td>no matter what you say you got rick rolled don...</td>\n",
              "      <td>2023-01-03T19:29:05Z</td>\n",
              "      <td>4</td>\n",
              "      <td>0</td>\n",
              "      <td>English</td>\n",
              "      <td>{'neg': 0.153, 'neu': 0.628, 'pos': 0.219, 'co...</td>\n",
              "    </tr>\n",
              "    <tr>\n",
              "      <th>11</th>\n",
              "      <td>dumb bee FBI edition</td>\n",
              "      <td>sometimes you just gotta rickroll yourself bec...</td>\n",
              "      <td>2019-07-23T06:54:55Z</td>\n",
              "      <td>143827</td>\n",
              "      <td>481</td>\n",
              "      <td>English</td>\n",
              "      <td>{'neg': 0.18, 'neu': 0.82, 'pos': 0.0, 'compou...</td>\n",
              "    </tr>\n",
              "  </tbody>\n",
              "</table>\n",
              "</div>\n",
              "      <button class=\"colab-df-convert\" onclick=\"convertToInteractive('df-efee5f35-a9e9-4fef-9d36-4e84fd99bba3')\"\n",
              "              title=\"Convert this dataframe to an interactive table.\"\n",
              "              style=\"display:none;\">\n",
              "        \n",
              "  <svg xmlns=\"http://www.w3.org/2000/svg\" height=\"24px\"viewBox=\"0 0 24 24\"\n",
              "       width=\"24px\">\n",
              "    <path d=\"M0 0h24v24H0V0z\" fill=\"none\"/>\n",
              "    <path d=\"M18.56 5.44l.94 2.06.94-2.06 2.06-.94-2.06-.94-.94-2.06-.94 2.06-2.06.94zm-11 1L8.5 8.5l.94-2.06 2.06-.94-2.06-.94L8.5 2.5l-.94 2.06-2.06.94zm10 10l.94 2.06.94-2.06 2.06-.94-2.06-.94-.94-2.06-.94 2.06-2.06.94z\"/><path d=\"M17.41 7.96l-1.37-1.37c-.4-.4-.92-.59-1.43-.59-.52 0-1.04.2-1.43.59L10.3 9.45l-7.72 7.72c-.78.78-.78 2.05 0 2.83L4 21.41c.39.39.9.59 1.41.59.51 0 1.02-.2 1.41-.59l7.78-7.78 2.81-2.81c.8-.78.8-2.07 0-2.86zM5.41 20L4 18.59l7.72-7.72 1.47 1.35L5.41 20z\"/>\n",
              "  </svg>\n",
              "      </button>\n",
              "      \n",
              "  <style>\n",
              "    .colab-df-container {\n",
              "      display:flex;\n",
              "      flex-wrap:wrap;\n",
              "      gap: 12px;\n",
              "    }\n",
              "\n",
              "    .colab-df-convert {\n",
              "      background-color: #E8F0FE;\n",
              "      border: none;\n",
              "      border-radius: 50%;\n",
              "      cursor: pointer;\n",
              "      display: none;\n",
              "      fill: #1967D2;\n",
              "      height: 32px;\n",
              "      padding: 0 0 0 0;\n",
              "      width: 32px;\n",
              "    }\n",
              "\n",
              "    .colab-df-convert:hover {\n",
              "      background-color: #E2EBFA;\n",
              "      box-shadow: 0px 1px 2px rgba(60, 64, 67, 0.3), 0px 1px 3px 1px rgba(60, 64, 67, 0.15);\n",
              "      fill: #174EA6;\n",
              "    }\n",
              "\n",
              "    [theme=dark] .colab-df-convert {\n",
              "      background-color: #3B4455;\n",
              "      fill: #D2E3FC;\n",
              "    }\n",
              "\n",
              "    [theme=dark] .colab-df-convert:hover {\n",
              "      background-color: #434B5C;\n",
              "      box-shadow: 0px 1px 3px 1px rgba(0, 0, 0, 0.15);\n",
              "      filter: drop-shadow(0px 1px 2px rgba(0, 0, 0, 0.3));\n",
              "      fill: #FFFFFF;\n",
              "    }\n",
              "  </style>\n",
              "\n",
              "      <script>\n",
              "        const buttonEl =\n",
              "          document.querySelector('#df-efee5f35-a9e9-4fef-9d36-4e84fd99bba3 button.colab-df-convert');\n",
              "        buttonEl.style.display =\n",
              "          google.colab.kernel.accessAllowed ? 'block' : 'none';\n",
              "\n",
              "        async function convertToInteractive(key) {\n",
              "          const element = document.querySelector('#df-efee5f35-a9e9-4fef-9d36-4e84fd99bba3');\n",
              "          const dataTable =\n",
              "            await google.colab.kernel.invokeFunction('convertToInteractive',\n",
              "                                                     [key], {});\n",
              "          if (!dataTable) return;\n",
              "\n",
              "          const docLinkHtml = 'Like what you see? Visit the ' +\n",
              "            '<a target=\"_blank\" href=https://colab.research.google.com/notebooks/data_table.ipynb>data table notebook</a>'\n",
              "            + ' to learn more about interactive tables.';\n",
              "          element.innerHTML = '';\n",
              "          dataTable['output_type'] = 'display_data';\n",
              "          await google.colab.output.renderOutput(dataTable, element);\n",
              "          const docLink = document.createElement('div');\n",
              "          docLink.innerHTML = docLinkHtml;\n",
              "          element.appendChild(docLink);\n",
              "        }\n",
              "      </script>\n",
              "    </div>\n",
              "  </div>\n",
              "  "
            ]
          },
          "metadata": {},
          "execution_count": 29
        }
      ]
    },
    {
      "cell_type": "code",
      "source": [
        "vader_df['compound'] = vader_df['vader_scores'].apply(lambda score_dict: score_dict['compound'])\n",
        "vader_df['vader_sentiment_type']=''\n",
        "vader_df.loc[vader_df.compound>0,'vader_sentiment_type']='POSITIVE'\n",
        "vader_df.loc[vader_df.compound==0,'vader_sentiment_type']='NEUTRAL'\n",
        "vader_df.loc[vader_df.compound<0,'vader_sentiment_type']='NEGATIVE'"
      ],
      "metadata": {
        "colab": {
          "base_uri": "https://localhost:8080/"
        },
        "id": "_LA4-7WYu2Ne",
        "outputId": "16274d11-e19b-4231-dbb4-814cb11e334c"
      },
      "execution_count": null,
      "outputs": [
        {
          "output_type": "stream",
          "name": "stderr",
          "text": [
            "<ipython-input-33-69a074b60d0e>:1: SettingWithCopyWarning: \n",
            "A value is trying to be set on a copy of a slice from a DataFrame.\n",
            "Try using .loc[row_indexer,col_indexer] = value instead\n",
            "\n",
            "See the caveats in the documentation: https://pandas.pydata.org/pandas-docs/stable/user_guide/indexing.html#returning-a-view-versus-a-copy\n",
            "  vader_df['compound'] = vader_df['vader_scores'].apply(lambda score_dict: score_dict['compound'])\n",
            "<ipython-input-33-69a074b60d0e>:2: SettingWithCopyWarning: \n",
            "A value is trying to be set on a copy of a slice from a DataFrame.\n",
            "Try using .loc[row_indexer,col_indexer] = value instead\n",
            "\n",
            "See the caveats in the documentation: https://pandas.pydata.org/pandas-docs/stable/user_guide/indexing.html#returning-a-view-versus-a-copy\n",
            "  vader_df['vader_sentiment_type']=''\n",
            "/usr/local/lib/python3.8/dist-packages/pandas/core/indexing.py:1817: SettingWithCopyWarning: \n",
            "A value is trying to be set on a copy of a slice from a DataFrame.\n",
            "Try using .loc[row_indexer,col_indexer] = value instead\n",
            "\n",
            "See the caveats in the documentation: https://pandas.pydata.org/pandas-docs/stable/user_guide/indexing.html#returning-a-view-versus-a-copy\n",
            "  self._setitem_single_column(loc, value, pi)\n"
          ]
        }
      ]
    },
    {
      "cell_type": "code",
      "source": [
        "vader_df.vader_sentiment_type.value_counts()"
      ],
      "metadata": {
        "colab": {
          "base_uri": "https://localhost:8080/"
        },
        "id": "wAIbc8IzvYr7",
        "outputId": "418f984d-cb81-4ef0-ec91-ec49da2c053e"
      },
      "execution_count": null,
      "outputs": [
        {
          "output_type": "execute_result",
          "data": {
            "text/plain": [
              "POSITIVE    23\n",
              "NEUTRAL     15\n",
              "NEGATIVE     4\n",
              "Name: vader_sentiment_type, dtype: int64"
            ]
          },
          "metadata": {},
          "execution_count": 34
        }
      ]
    },
    {
      "cell_type": "code",
      "source": [
        "vader_df.vader_sentiment_type.value_counts().plot(kind='bar',title=\"sentiment analysis\")"
      ],
      "metadata": {
        "colab": {
          "base_uri": "https://localhost:8080/",
          "height": 338
        },
        "id": "DvUbKI7puIPA",
        "outputId": "35db3e83-c682-4d1d-a794-e76ab69ce6a0"
      },
      "execution_count": null,
      "outputs": [
        {
          "output_type": "execute_result",
          "data": {
            "text/plain": [
              "<matplotlib.axes._subplots.AxesSubplot at 0x7f37b17d0a60>"
            ]
          },
          "metadata": {},
          "execution_count": 35
        },
        {
          "output_type": "display_data",
          "data": {
            "text/plain": [
              "<Figure size 432x288 with 1 Axes>"
            ],
            "image/png": "[encoded data removed]"
          },
          "metadata": {
            "needs_background": "light"
          }
        }
      ]
    },
    {
      "cell_type": "markdown",
      "source": [
        "## Comparison"
      ],
      "metadata": {
        "id": "YHc1RvG110HP"
      }
    },
    {
      "cell_type": "code",
      "source": [
        "vader_df.groupby(['vader_sentiment_type']).head()"
      ],
      "metadata": {
        "id": "3MUqoH0v12zL"
      },
      "execution_count": null,
      "outputs": []
    },
    {
      "cell_type": "markdown",
      "source": [
        "## Conclusion\n"
      ],
      "metadata": {
        "id": "CybrcwHWSfXv"
      }
    },
    {
      "cell_type": "markdown",
      "source": [
        "After the initial analysis and visual inspection. There are more positive and negative counts using TextBlob than Vader.\n",
        "\n",
        "I think TextBlob is closer to the sentiment outcomes that I expect. Hence picking TextBlob for Sentiment analysis."
      ],
      "metadata": {
        "id": "OSY2TefT7kcN"
      }
    },
    {
      "cell_type": "markdown",
      "source": [
        "# DASHBOARD"
      ],
      "metadata": {
        "id": "MjJg8Eum8H-4"
      }
    },
    {
      "cell_type": "markdown",
      "source": [
        "A few insights that we draw:\n",
        "1. Top 10 liked comments\n",
        "2. Top 10 replies comments\n",
        "3. Top languages commented in\n",
        "4. Sentiment analysis on the English comments\n",
        "5. Metrics: Likes and subscribes\n",
        "6. Time series chart showing subs gained and Viewer hits\n"
      ],
      "metadata": {
        "id": "eSOhuC2K8LDM"
      }
    },
    {
      "cell_type": "code",
      "source": [
        "# -*- coding: utf-8 -*-\n",
        "\n",
        "# Sample Python code for youtube.videos.list\n",
        "# See instructions for running these code samples locally:\n",
        "# https://developers.google.com/explorer-help/code-samples#python\n",
        "\n",
        "import os\n",
        "\n",
        "import google_auth_oauthlib.flow\n",
        "import googleapiclient.discovery\n",
        "import googleapiclient.errors\n",
        "\n",
        "# scopes = [\"https://www.googleapis.com/auth/youtube.readonly\"]\n",
        "\n",
        "def main():\n",
        "    # Disable OAuthlib's HTTPS verification when running locally.\n",
        "    # *DO NOT* leave this option enabled in production.\n",
        "    # os.environ[\"OAUTHLIB_INSECURE_TRANSPORT\"] = \"1\"\n",
        "\n",
        "    api_service_name = \"youtube\"\n",
        "    api_version = \"v3\"\n",
        "    client_secrets_file = \"YOUR_CLIENT_SECRET_FILE.json\"\n",
        "\n",
        "    # Get credentials and create an API client\n",
        "    flow = google_auth_oauthlib.flow.InstalledAppFlow.from_client_secrets_file(\n",
        "        client_secrets_file, scopes)\n",
        "    credentials = flow.run_console()\n",
        "    youtube = googleapiclient.discovery.build(\n",
        "        api_service_name, api_version, credentials=credentials)\n",
        "\n",
        "    request = youtube.videos().list(\n",
        "        part=\"snippet,contentDetails,statistics\",\n",
        "        id=\"dQw4w9WgXcQ\"\n",
        "    )\n",
        "    response = request.execute()\n",
        "\n",
        "    print(response)\n",
        "\n",
        "if __name__ == \"__main__\":\n",
        "    main()"
      ],
      "metadata": {
        "id": "RKDFLjkRrwCw"
      },
      "execution_count": null,
      "outputs": []
    },
    {
      "cell_type": "markdown",
      "source": [
        "## FUNCTIONS"
      ],
      "metadata": {
        "id": "Mur22aN1D6hD"
      }
    },
    {
      "cell_type": "code",
      "source": [
        "url = 'https://www.youtube.com/watch?v=dQw4w9WgXcQ'"
      ],
      "metadata": {
        "id": "xHO2i54SErwI"
      },
      "execution_count": null,
      "outputs": []
    },
    {
      "cell_type": "code",
      "source": [
        "video_id = url.split('?v=')[-1]\n",
        "video_id"
      ],
      "metadata": {
        "id": "iyGSYm9_Ersu"
      },
      "execution_count": null,
      "outputs": []
    },
    {
      "cell_type": "code",
      "source": [
        "from googleapiclient.discovery import build\n",
        "import pandas as pd\n",
        "from cleantext import clean\n",
        "from langdetect import detect, LangDetectException\n",
        "import pycountry\n",
        "from textblob import TextBlob\n",
        "\n",
        "\n",
        "def get_polarity(text):\n",
        "    \"\"\"Function to get the polarity\n",
        "    Args:\n",
        "      text: Text used as input to determin the polarity\n",
        "    Returns:\n",
        "      Returns emotions expressed in a sentence.\n",
        "    \"\"\"\n",
        "    return TextBlob(text).sentiment.polarity\n",
        "\n",
        "def get_sentiment(polarity):\n",
        "   if polarity > 0:\n",
        "    return 'POSITIVE'\n",
        "   elif polarity<0:\n",
        "    return 'NEGATIVE' \n",
        "   else:\n",
        "     return 'NEUTRAL'\n",
        "\n",
        "\n",
        "def parse_video(url) -> pd.DataFrame:\n",
        "    \"\"\"\n",
        "    Args:\n",
        "      url: URL Of the video to be parsed\n",
        "    Returns:\n",
        "      Dataframe with the processed and cleaned values\n",
        "    \"\"\"\n",
        "    api_key = ''\n",
        "    # Get the video_id from the url\n",
        "    video_id = url.split('?v=')[-1]\n",
        "\n",
        "    # creating youtube resource object\n",
        "    youtube = build('youtube', 'v3',\n",
        "    developerKey=api_key)\n",
        "\n",
        "    # retrieve youtube video results\n",
        "    video_response=youtube.commentThreads().list(\n",
        "    part='snippet',\n",
        "    maxResults=1000,\n",
        "    order='relevance',\n",
        "    videoId=video_id\n",
        "    ).execute()\n",
        "\n",
        "    # empty list for storing reply\n",
        "    comments = []\n",
        "\n",
        "    # extracting required info from each result object\n",
        "    for item in video_response['items']:\n",
        "\n",
        "        # Extracting comments\n",
        "        comment = item['snippet']['topLevelComment']['snippet']['textOriginal']\n",
        "        # Extracting author\n",
        "        author = item['snippet']['topLevelComment']['snippet']['authorDisplayName']\n",
        "        # Extracting published time\n",
        "        published_at = item['snippet']['topLevelComment']['snippet']['publishedAt']\n",
        "        # Extracting likes\n",
        "        like_count = item['snippet']['topLevelComment']['snippet']['likeCount']\n",
        "        # Extracting total replies to the comment\n",
        "        reply_count = item['snippet']['totalReplyCount']\n",
        "\n",
        "        comments.append([author, comment, published_at, like_count, reply_count])\n",
        "\n",
        "    df = pd.DataFrame({'Author': [i[0] for i in comments], \n",
        "                      'Comment': [i[1] for i in comments], \n",
        "                      'Timestamp': [i[2] for i in comments],\n",
        "                    'Likes': [i[3] for i in comments], \n",
        "                    'TotalReplies': [i[4] for i in comments]})\n",
        "\n",
        "    # Remove extra spaces and make them lower case. Replace special emojis\n",
        "    df['Comment'] = df['Comment'].apply(lambda x: x.strip().lower().\n",
        "                                        replace('xd','').replace('<3',''))\n",
        "\n",
        "    # Clean text from line breaks, unicodes, emojis and punctuations\n",
        "    df['Comment'] = df['Comment'].apply(lambda x: clean(x, \n",
        "    no_emoji=True,\n",
        "    no_punct=True,\n",
        "    no_line_breaks=True,\n",
        "    fix_unicode=True))\n",
        "\n",
        "    # Detect the languages of the comments\n",
        "    df['Language'] = df['Comment'].apply(lambda x: detect(x))\n",
        "\n",
        "    # Convert ISO country codes to Languages\n",
        "    df['Language'] = df['Language'].apply(lambda x: pycountry.languages.get(alpha_2=x).name)\n",
        "\n",
        "    # Determining the polarity based on english comments\n",
        "    df['TextBlob_Polarity'] = df[['Comment','Language']].apply(lambda x: get_polarity(x['Comment']) if x['Language'] == 'English' else '', axis=1)\n",
        "\n",
        "    df['TextBlob_Sentiment_Type'] = df['TextBlob_Polarity'].apply(lambda x: get_sentiment(x) if type(x)==float else '')\n",
        "\n",
        "\n",
        "    return df"
      ],
      "metadata": {
        "id": "CQSt7Ln8D6Lf"
      },
      "execution_count": null,
      "outputs": []
    },
    {
      "cell_type": "code",
      "source": [
        "df3 = parse_video('https://www.youtube.com/watch?v=dQw4w9WgXcQ')\n",
        "df3.head()"
      ],
      "metadata": {
        "colab": {
          "base_uri": "https://localhost:8080/",
          "height": 206
        },
        "id": "Vx5MWM8oDBEc",
        "outputId": "46ebae22-cf17-4c6b-974b-e233ded5a637"
      },
      "execution_count": null,
      "outputs": [
        {
          "output_type": "execute_result",
          "data": {
            "text/plain": [
              "                     Author  \\\n",
              "0               Rick Astley   \n",
              "1                     Dylan   \n",
              "2              Alain Flores   \n",
              "3                     Lukas   \n",
              "4  breaking of the game 067   \n",
              "\n",
              "                                             Comment             Timestamp  \\\n",
              "0  1 billion views for never gonna give you up am...  2021-07-28T21:00:32Z   \n",
              "1  its come to the point that being rickrolled is...  2019-12-13T18:58:53Z   \n",
              "2  esta cancion es genialtanto tiempo y no ha sid...  2023-01-02T16:48:50Z   \n",
              "3  naah temardo en verdad 32707124 personas ya lo...  2023-01-02T16:26:56Z   \n",
              "4  aparte de auto rickroll es muy buena fue un te...  2023-01-02T20:58:42Z   \n",
              "\n",
              "     Likes  TotalReplies Language TextBlob_Polarity TextBlob_Sentiment_Type  \n",
              "0  1167467           497  English          0.333333                POSITIVE  \n",
              "1   157795           491  English               0.0                 NEUTRAL  \n",
              "2      498            20  Spanish                                            \n",
              "3      511            17  Spanish                                            \n",
              "4      134             5  Spanish                                            "
            ],
            "text/html": [
              "\n",
              "  <div id=\"df-73124366-fdc8-4f4d-9f6e-710a1da0b693\">\n",
              "    <div class=\"colab-df-container\">\n",
              "      <div>\n",
              "<style scoped>\n",
              "    .dataframe tbody tr th:only-of-type {\n",
              "        vertical-align: middle;\n",
              "    }\n",
              "\n",
              "    .dataframe tbody tr th {\n",
              "        vertical-align: top;\n",
              "    }\n",
              "\n",
              "    .dataframe thead th {\n",
              "        text-align: right;\n",
              "    }\n",
              "</style>\n",
              "<table border=\"1\" class=\"dataframe\">\n",
              "  <thead>\n",
              "    <tr style=\"text-align: right;\">\n",
              "      <th></th>\n",
              "      <th>Author</th>\n",
              "      <th>Comment</th>\n",
              "      <th>Timestamp</th>\n",
              "      <th>Likes</th>\n",
              "      <th>TotalReplies</th>\n",
              "      <th>Language</th>\n",
              "      <th>TextBlob_Polarity</th>\n",
              "      <th>TextBlob_Sentiment_Type</th>\n",
              "    </tr>\n",
              "  </thead>\n",
              "  <tbody>\n",
              "    <tr>\n",
              "      <th>0</th>\n",
              "      <td>Rick Astley</td>\n",
              "      <td>1 billion views for never gonna give you up am...</td>\n",
              "      <td>2021-07-28T21:00:32Z</td>\n",
              "      <td>1167467</td>\n",
              "      <td>497</td>\n",
              "      <td>English</td>\n",
              "      <td>0.333333</td>\n",
              "      <td>POSITIVE</td>\n",
              "    </tr>\n",
              "    <tr>\n",
              "      <th>1</th>\n",
              "      <td>Dylan</td>\n",
              "      <td>its come to the point that being rickrolled is...</td>\n",
              "      <td>2019-12-13T18:58:53Z</td>\n",
              "      <td>157795</td>\n",
              "      <td>491</td>\n",
              "      <td>English</td>\n",
              "      <td>0.0</td>\n",
              "      <td>NEUTRAL</td>\n",
              "    </tr>\n",
              "    <tr>\n",
              "      <th>2</th>\n",
              "      <td>Alain Flores</td>\n",
              "      <td>esta cancion es genialtanto tiempo y no ha sid...</td>\n",
              "      <td>2023-01-02T16:48:50Z</td>\n",
              "      <td>498</td>\n",
              "      <td>20</td>\n",
              "      <td>Spanish</td>\n",
              "      <td></td>\n",
              "      <td></td>\n",
              "    </tr>\n",
              "    <tr>\n",
              "      <th>3</th>\n",
              "      <td>Lukas</td>\n",
              "      <td>naah temardo en verdad 32707124 personas ya lo...</td>\n",
              "      <td>2023-01-02T16:26:56Z</td>\n",
              "      <td>511</td>\n",
              "      <td>17</td>\n",
              "      <td>Spanish</td>\n",
              "      <td></td>\n",
              "      <td></td>\n",
              "    </tr>\n",
              "    <tr>\n",
              "      <th>4</th>\n",
              "      <td>breaking of the game 067</td>\n",
              "      <td>aparte de auto rickroll es muy buena fue un te...</td>\n",
              "      <td>2023-01-02T20:58:42Z</td>\n",
              "      <td>134</td>\n",
              "      <td>5</td>\n",
              "      <td>Spanish</td>\n",
              "      <td></td>\n",
              "      <td></td>\n",
              "    </tr>\n",
              "  </tbody>\n",
              "</table>\n",
              "</div>\n",
              "      <button class=\"colab-df-convert\" onclick=\"convertToInteractive('df-73124366-fdc8-4f4d-9f6e-710a1da0b693')\"\n",
              "              title=\"Convert this dataframe to an interactive table.\"\n",
              "              style=\"display:none;\">\n",
              "        \n",
              "  <svg xmlns=\"http://www.w3.org/2000/svg\" height=\"24px\"viewBox=\"0 0 24 24\"\n",
              "       width=\"24px\">\n",
              "    <path d=\"M0 0h24v24H0V0z\" fill=\"none\"/>\n",
              "    <path d=\"M18.56 5.44l.94 2.06.94-2.06 2.06-.94-2.06-.94-.94-2.06-.94 2.06-2.06.94zm-11 1L8.5 8.5l.94-2.06 2.06-.94-2.06-.94L8.5 2.5l-.94 2.06-2.06.94zm10 10l.94 2.06.94-2.06 2.06-.94-2.06-.94-.94-2.06-.94 2.06-2.06.94z\"/><path d=\"M17.41 7.96l-1.37-1.37c-.4-.4-.92-.59-1.43-.59-.52 0-1.04.2-1.43.59L10.3 9.45l-7.72 7.72c-.78.78-.78 2.05 0 2.83L4 21.41c.39.39.9.59 1.41.59.51 0 1.02-.2 1.41-.59l7.78-7.78 2.81-2.81c.8-.78.8-2.07 0-2.86zM5.41 20L4 18.59l7.72-7.72 1.47 1.35L5.41 20z\"/>\n",
              "  </svg>\n",
              "      </button>\n",
              "      \n",
              "  <style>\n",
              "    .colab-df-container {\n",
              "      display:flex;\n",
              "      flex-wrap:wrap;\n",
              "      gap: 12px;\n",
              "    }\n",
              "\n",
              "    .colab-df-convert {\n",
              "      background-color: #E8F0FE;\n",
              "      border: none;\n",
              "      border-radius: 50%;\n",
              "      cursor: pointer;\n",
              "      display: none;\n",
              "      fill: #1967D2;\n",
              "      height: 32px;\n",
              "      padding: 0 0 0 0;\n",
              "      width: 32px;\n",
              "    }\n",
              "\n",
              "    .colab-df-convert:hover {\n",
              "      background-color: #E2EBFA;\n",
              "      box-shadow: 0px 1px 2px rgba(60, 64, 67, 0.3), 0px 1px 3px 1px rgba(60, 64, 67, 0.15);\n",
              "      fill: #174EA6;\n",
              "    }\n",
              "\n",
              "    [theme=dark] .colab-df-convert {\n",
              "      background-color: #3B4455;\n",
              "      fill: #D2E3FC;\n",
              "    }\n",
              "\n",
              "    [theme=dark] .colab-df-convert:hover {\n",
              "      background-color: #434B5C;\n",
              "      box-shadow: 0px 1px 3px 1px rgba(0, 0, 0, 0.15);\n",
              "      filter: drop-shadow(0px 1px 2px rgba(0, 0, 0, 0.3));\n",
              "      fill: #FFFFFF;\n",
              "    }\n",
              "  </style>\n",
              "\n",
              "      <script>\n",
              "        const buttonEl =\n",
              "          document.querySelector('#df-73124366-fdc8-4f4d-9f6e-710a1da0b693 button.colab-df-convert');\n",
              "        buttonEl.style.display =\n",
              "          google.colab.kernel.accessAllowed ? 'block' : 'none';\n",
              "\n",
              "        async function convertToInteractive(key) {\n",
              "          const element = document.querySelector('#df-73124366-fdc8-4f4d-9f6e-710a1da0b693');\n",
              "          const dataTable =\n",
              "            await google.colab.kernel.invokeFunction('convertToInteractive',\n",
              "                                                     [key], {});\n",
              "          if (!dataTable) return;\n",
              "\n",
              "          const docLinkHtml = 'Like what you see? Visit the ' +\n",
              "            '<a target=\"_blank\" href=https://colab.research.google.com/notebooks/data_table.ipynb>data table notebook</a>'\n",
              "            + ' to learn more about interactive tables.';\n",
              "          element.innerHTML = '';\n",
              "          dataTable['output_type'] = 'display_data';\n",
              "          await google.colab.output.renderOutput(dataTable, element);\n",
              "          const docLink = document.createElement('div');\n",
              "          docLink.innerHTML = docLinkHtml;\n",
              "          element.appendChild(docLink);\n",
              "        }\n",
              "      </script>\n",
              "    </div>\n",
              "  </div>\n",
              "  "
            ]
          },
          "metadata": {},
          "execution_count": 33
        }
      ]
    }
  ]
}